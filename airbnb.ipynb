{
 "cells": [
  {
   "cell_type": "code",
   "execution_count": 22,
   "metadata": {},
   "outputs": [],
   "source": [
    "from bs4 import BeautifulSoup\n",
    "import requests\n",
    "\n",
    "import pandas as pd"
   ]
  },
  {
   "cell_type": "markdown",
   "metadata": {},
   "source": [
    "# Definimos a cidade da búsqueda"
   ]
  },
  {
   "cell_type": "code",
   "execution_count": 2,
   "metadata": {},
   "outputs": [],
   "source": [
    "# Sao Paulo\n",
    "airbnb_url = '''https://www.airbnb.com.br/s/Sao-Paulo-~-S%C3%A3o-Paulo--Brazil/homes?tab_id=home_tab&refinement_paths%5B%5D=%2Fhomes&flexible_trip_lengths%5B%5D=one_week&query=Sao%20Paulo%20-%20S%C3%A3o%20Paulo%2C%20Brazil&place_id=ChIJ0WGkg4FEzpQRrlsz_whLqZs&date_picker_type=calendar&source=structured_search_input_header&search_type=autocomplete_click'''\n",
    "\n"
   ]
  },
  {
   "cell_type": "code",
   "execution_count": 3,
   "metadata": {},
   "outputs": [],
   "source": [
    "soup = BeautifulSoup(requests.get(airbnb_url).content, 'html.parser')"
   ]
  },
  {
   "cell_type": "code",
   "execution_count": 4,
   "metadata": {},
   "outputs": [],
   "source": [
    "# print(soup.prettify())"
   ]
  },
  {
   "cell_type": "code",
   "execution_count": 5,
   "metadata": {},
   "outputs": [
    {
     "data": {
      "text/plain": [
       "'https://www.airbnb.com.br/s/Sao-Paulo-~-São-Paulo--Brazil/homes?tab_id=home_tab&refinement_paths%5B%5D=%2Fhomes&flexible_trip_lengths%5B%5D=one_week&query=S%C3%A3o%20Paulo%2C%20SP%2C%20Brasil&place_id=ChIJ0WGkg4FEzpQRrlsz_whLqZs&date_picker_type=calendar&source=structured_search_input_header&search_type=autocomplete_click&federated_search_session_id=1b5c21b3-9cfd-4abe-b6ba-b7e6a76eb82c&pagination_search=true&items_offset=20&section_offset=2'"
      ]
     },
     "execution_count": 5,
     "metadata": {},
     "output_type": "execute_result"
    }
   ],
   "source": [
    "'https://www.airbnb.com.br' + soup.find('a', '_1bfat5l').get('href')"
   ]
  },
  {
   "cell_type": "raw",
   "metadata": {},
   "source": [
    "pages_url = []\n",
    "\n",
    "soup = BeautifulSoup(requests.get(airbnb_url).content, 'html.parser')"
   ]
  },
  {
   "cell_type": "code",
   "execution_count": 6,
   "metadata": {},
   "outputs": [],
   "source": [
    "# scraping dos links de cada uma das acomodações\n",
    "links = []\n",
    "for i in range(len(soup.find_all('a', 'lwm61be dir dir-ltr'))):\n",
    "    links.append(soup.find_all('a', 'lwm61be dir dir-ltr')[i].get('href'))"
   ]
  },
  {
   "cell_type": "code",
   "execution_count": 7,
   "metadata": {},
   "outputs": [],
   "source": [
    "# scraping dos títulos de cada uma das acomodações\n",
    "titles = []\n",
    "for i in range(len(soup.find_all('div', 't1jojoys dir dir-ltr'))):\n",
    "    titles.append(soup.find_all('div', 't1jojoys dir dir-ltr')[i].get_text())"
   ]
  },
  {
   "cell_type": "code",
   "execution_count": 8,
   "metadata": {},
   "outputs": [],
   "source": [
    "# scraping da quantidade e descrição das camas de cada uma das acomodações\n",
    "camas = []\n",
    "for i in range(0, len(soup.find_all('div', 'f15liw5s s1cjsi4j dir dir-ltr')), 2):\n",
    "    camas.append(soup.find_all('div', 'f15liw5s s1cjsi4j dir dir-ltr')[i].get_text())"
   ]
  },
  {
   "cell_type": "code",
   "execution_count": 9,
   "metadata": {},
   "outputs": [],
   "source": [
    "# scraping dos preços de cada uma das acomodações\n",
    "precos = []\n",
    "for i in range(len(soup.find_all('div', 'p1v28t5c dir dir-ltr'))):\n",
    "    precos.append(soup.find_all('div', 'p1v28t5c dir dir-ltr')[i].get_text())"
   ]
  },
  {
   "cell_type": "code",
   "execution_count": 10,
   "metadata": {},
   "outputs": [],
   "source": [
    "# scraping das avaliações de cada uma das acomodações\n",
    "avaliacoes = []\n",
    "for i in range(len(soup.find_all('span', 'ru0q88m dir dir-ltr'))):\n",
    "    avaliacoes.append(soup.find_all('span', 'ru0q88m dir dir-ltr')[i].get_text())"
   ]
  },
  {
   "cell_type": "code",
   "execution_count": 11,
   "metadata": {},
   "outputs": [
    {
     "data": {
      "text/plain": [
       "'4,81'"
      ]
     },
     "execution_count": 11,
     "metadata": {},
     "output_type": "execute_result"
    }
   ],
   "source": [
    "soup.find_all('span', 'ru0q88m dir dir-ltr')[0].get_text()"
   ]
  },
  {
   "cell_type": "code",
   "execution_count": 12,
   "metadata": {},
   "outputs": [
    {
     "data": {
      "text/plain": [
       "['R$108\\xa0/ noiteR$108 por noite',\n",
       " 'R$58\\xa0/ noiteR$58 por noite',\n",
       " 'R$147\\xa0/ noiteR$147 por noite',\n",
       " 'R$127\\xa0/ noiteR$127 por noite',\n",
       " 'R$35\\xa0/ noiteR$35 por noite',\n",
       " 'R$79\\xa0/ noiteR$79 por noite',\n",
       " 'R$176\\xa0/ noiteR$176 por noite',\n",
       " 'R$145\\xa0/ noiteR$145 por noite',\n",
       " 'R$219\\xa0/ noiteR$219 por noite',\n",
       " 'R$111\\xa0/ noiteR$111 por noite',\n",
       " 'R$62\\xa0/ noiteR$62 por noite',\n",
       " 'R$183\\xa0/ noiteR$183 por noite',\n",
       " 'R$82\\xa0/ noiteR$82 por noite',\n",
       " 'R$137\\xa0/ noiteR$137 por noite',\n",
       " 'R$175\\xa0/ noiteR$175 por noite',\n",
       " 'R$130\\xa0/ noiteR$130 por noite',\n",
       " 'R$146\\xa0/ noiteR$146 por noite',\n",
       " 'R$136\\xa0/ noiteR$136 por noite',\n",
       " 'R$174\\xa0/ noiteR$174 por noite',\n",
       " 'R$64\\xa0/ noiteR$64 por noite']"
      ]
     },
     "execution_count": 12,
     "metadata": {},
     "output_type": "execute_result"
    }
   ],
   "source": [
    "precos"
   ]
  },
  {
   "cell_type": "markdown",
   "metadata": {},
   "source": [
    "# Construimos o dataframe com os dados barridos"
   ]
  },
  {
   "cell_type": "code",
   "execution_count": 23,
   "metadata": {},
   "outputs": [],
   "source": [
    "df = pd.DataFrame({'titles': titles, 'link': links, 'camas': camas, 'precos': precos, 'avaliacoes': avaliacoes})"
   ]
  },
  {
   "cell_type": "code",
   "execution_count": 24,
   "metadata": {},
   "outputs": [
    {
     "data": {
      "text/html": [
       "<div>\n",
       "<style scoped>\n",
       "    .dataframe tbody tr th:only-of-type {\n",
       "        vertical-align: middle;\n",
       "    }\n",
       "\n",
       "    .dataframe tbody tr th {\n",
       "        vertical-align: top;\n",
       "    }\n",
       "\n",
       "    .dataframe thead th {\n",
       "        text-align: right;\n",
       "    }\n",
       "</style>\n",
       "<table border=\"1\" class=\"dataframe\">\n",
       "  <thead>\n",
       "    <tr style=\"text-align: right;\">\n",
       "      <th></th>\n",
       "      <th>titles</th>\n",
       "      <th>link</th>\n",
       "      <th>camas</th>\n",
       "      <th>precos</th>\n",
       "      <th>avaliacoes</th>\n",
       "    </tr>\n",
       "  </thead>\n",
       "  <tbody>\n",
       "    <tr>\n",
       "      <th>0</th>\n",
       "      <td>Apartamento em República</td>\n",
       "      <td>/rooms/40577892?adults=1&amp;children=0&amp;infants=0&amp;...</td>\n",
       "      <td>1 cama</td>\n",
       "      <td>R$108 / noiteR$108 por noite</td>\n",
       "      <td>4,81</td>\n",
       "    </tr>\n",
       "    <tr>\n",
       "      <th>1</th>\n",
       "      <td>Loft em Barra Funda</td>\n",
       "      <td>/rooms/645852499715754539?adults=1&amp;children=0&amp;...</td>\n",
       "      <td>1 cama</td>\n",
       "      <td>R$58 / noiteR$58 por noite</td>\n",
       "      <td>Novo</td>\n",
       "    </tr>\n",
       "    <tr>\n",
       "      <th>2</th>\n",
       "      <td>Apartamento em São Paulo</td>\n",
       "      <td>/rooms/8151920?adults=1&amp;children=0&amp;infants=0&amp;c...</td>\n",
       "      <td>1 cama de casal</td>\n",
       "      <td>R$147 / noiteR$147 por noite</td>\n",
       "      <td>Novo</td>\n",
       "    </tr>\n",
       "    <tr>\n",
       "      <th>3</th>\n",
       "      <td>Apartamento em Campo Belo</td>\n",
       "      <td>/rooms/35996844?adults=1&amp;children=0&amp;infants=0&amp;...</td>\n",
       "      <td>1 cama de casal</td>\n",
       "      <td>R$127 / noiteR$127 por noite</td>\n",
       "      <td>4,85</td>\n",
       "    </tr>\n",
       "    <tr>\n",
       "      <th>4</th>\n",
       "      <td>Quarto inteiro em Vila da Saúde</td>\n",
       "      <td>/rooms/547750422101333235?adults=1&amp;children=0&amp;...</td>\n",
       "      <td>1 cama de casal</td>\n",
       "      <td>R$35 / noiteR$35 por noite</td>\n",
       "      <td>4,4</td>\n",
       "    </tr>\n",
       "    <tr>\n",
       "      <th>5</th>\n",
       "      <td>Lugar para ficar em Chácara Inglesa</td>\n",
       "      <td>/rooms/21501493?adults=1&amp;children=0&amp;infants=0&amp;...</td>\n",
       "      <td>1 cama</td>\n",
       "      <td>R$79 / noiteR$79 por noite</td>\n",
       "      <td>4,88</td>\n",
       "    </tr>\n",
       "    <tr>\n",
       "      <th>6</th>\n",
       "      <td>Apartamento em Pinheiros</td>\n",
       "      <td>/rooms/52471075?adults=1&amp;children=0&amp;infants=0&amp;...</td>\n",
       "      <td>1 cama queen</td>\n",
       "      <td>R$176 / noiteR$176 por noite</td>\n",
       "      <td>5,0</td>\n",
       "    </tr>\n",
       "    <tr>\n",
       "      <th>7</th>\n",
       "      <td>Loft em Santo Amaro</td>\n",
       "      <td>/rooms/33834345?adults=1&amp;children=0&amp;infants=0&amp;...</td>\n",
       "      <td>1 cama</td>\n",
       "      <td>R$145 / noiteR$145 por noite</td>\n",
       "      <td>4,66</td>\n",
       "    </tr>\n",
       "    <tr>\n",
       "      <th>8</th>\n",
       "      <td>Apartamento em Vila Olímpia</td>\n",
       "      <td>/rooms/47835154?adults=1&amp;children=0&amp;infants=0&amp;...</td>\n",
       "      <td>1 cama</td>\n",
       "      <td>R$219 / noiteR$219 por noite</td>\n",
       "      <td>4,86</td>\n",
       "    </tr>\n",
       "    <tr>\n",
       "      <th>9</th>\n",
       "      <td>Apartamento em Bela Vista</td>\n",
       "      <td>/rooms/28249387?adults=1&amp;children=0&amp;infants=0&amp;...</td>\n",
       "      <td>1 cama</td>\n",
       "      <td>R$111 / noiteR$111 por noite</td>\n",
       "      <td>4,95</td>\n",
       "    </tr>\n",
       "    <tr>\n",
       "      <th>10</th>\n",
       "      <td>Quarto inteiro em Vila Clementino</td>\n",
       "      <td>/rooms/29000893?adults=1&amp;children=0&amp;infants=0&amp;...</td>\n",
       "      <td>1 cama de casal</td>\n",
       "      <td>R$62 / noiteR$62 por noite</td>\n",
       "      <td>4,93</td>\n",
       "    </tr>\n",
       "    <tr>\n",
       "      <th>11</th>\n",
       "      <td>Condomínio em Pinheiros</td>\n",
       "      <td>/rooms/553965158561537533?adults=1&amp;children=0&amp;...</td>\n",
       "      <td>1 cama de casal</td>\n",
       "      <td>R$183 / noiteR$183 por noite</td>\n",
       "      <td>5,0</td>\n",
       "    </tr>\n",
       "    <tr>\n",
       "      <th>12</th>\n",
       "      <td>Loft em São Paulo</td>\n",
       "      <td>/rooms/13800484?adults=1&amp;children=0&amp;infants=0&amp;...</td>\n",
       "      <td>1 cama de casal</td>\n",
       "      <td>R$82 / noiteR$82 por noite</td>\n",
       "      <td>4,74</td>\n",
       "    </tr>\n",
       "    <tr>\n",
       "      <th>13</th>\n",
       "      <td>Loft em República</td>\n",
       "      <td>/rooms/22334456?adults=1&amp;children=0&amp;infants=0&amp;...</td>\n",
       "      <td>1 cama queen</td>\n",
       "      <td>R$137 / noiteR$137 por noite</td>\n",
       "      <td>4,97</td>\n",
       "    </tr>\n",
       "    <tr>\n",
       "      <th>14</th>\n",
       "      <td>Apartamento em Bela Vista</td>\n",
       "      <td>/rooms/51923165?adults=1&amp;children=0&amp;infants=0&amp;...</td>\n",
       "      <td>1 cama</td>\n",
       "      <td>R$175 / noiteR$175 por noite</td>\n",
       "      <td>4,91</td>\n",
       "    </tr>\n",
       "    <tr>\n",
       "      <th>15</th>\n",
       "      <td>Apartamento em Vila Clementino</td>\n",
       "      <td>/rooms/54247639?adults=1&amp;children=0&amp;infants=0&amp;...</td>\n",
       "      <td>1 cama</td>\n",
       "      <td>R$130 / noiteR$130 por noite</td>\n",
       "      <td>4,3</td>\n",
       "    </tr>\n",
       "    <tr>\n",
       "      <th>16</th>\n",
       "      <td>Apartamento em Bela Vista</td>\n",
       "      <td>/rooms/23098003?adults=1&amp;children=0&amp;infants=0&amp;...</td>\n",
       "      <td>2 camas</td>\n",
       "      <td>R$146 / noiteR$146 por noite</td>\n",
       "      <td>4,82</td>\n",
       "    </tr>\n",
       "    <tr>\n",
       "      <th>17</th>\n",
       "      <td>Apartamento em Chácara Santo Antônio (Zona Sul)</td>\n",
       "      <td>/rooms/44551490?adults=1&amp;children=0&amp;infants=0&amp;...</td>\n",
       "      <td>1 cama king</td>\n",
       "      <td>R$136 / noiteR$136 por noite</td>\n",
       "      <td>5,0</td>\n",
       "    </tr>\n",
       "    <tr>\n",
       "      <th>18</th>\n",
       "      <td>Condomínio em Bela Vista</td>\n",
       "      <td>/rooms/33711775?adults=1&amp;children=0&amp;infants=0&amp;...</td>\n",
       "      <td>1 cama</td>\n",
       "      <td>R$174 / noiteR$174 por noite</td>\n",
       "      <td>4,84</td>\n",
       "    </tr>\n",
       "    <tr>\n",
       "      <th>19</th>\n",
       "      <td>Quarto inteiro em Jardim Paulista</td>\n",
       "      <td>/rooms/24982820?adults=1&amp;children=0&amp;infants=0&amp;...</td>\n",
       "      <td>1 cama de solteiro</td>\n",
       "      <td>R$64 / noiteR$64 por noite</td>\n",
       "      <td>4,94</td>\n",
       "    </tr>\n",
       "  </tbody>\n",
       "</table>\n",
       "</div>"
      ],
      "text/plain": [
       "                                             titles  \\\n",
       "0                          Apartamento em República   \n",
       "1                               Loft em Barra Funda   \n",
       "2                          Apartamento em São Paulo   \n",
       "3                         Apartamento em Campo Belo   \n",
       "4                   Quarto inteiro em Vila da Saúde   \n",
       "5               Lugar para ficar em Chácara Inglesa   \n",
       "6                          Apartamento em Pinheiros   \n",
       "7                               Loft em Santo Amaro   \n",
       "8                       Apartamento em Vila Olímpia   \n",
       "9                         Apartamento em Bela Vista   \n",
       "10                Quarto inteiro em Vila Clementino   \n",
       "11                          Condomínio em Pinheiros   \n",
       "12                                Loft em São Paulo   \n",
       "13                                Loft em República   \n",
       "14                        Apartamento em Bela Vista   \n",
       "15                   Apartamento em Vila Clementino   \n",
       "16                        Apartamento em Bela Vista   \n",
       "17  Apartamento em Chácara Santo Antônio (Zona Sul)   \n",
       "18                         Condomínio em Bela Vista   \n",
       "19                Quarto inteiro em Jardim Paulista   \n",
       "\n",
       "                                                 link               camas  \\\n",
       "0   /rooms/40577892?adults=1&children=0&infants=0&...              1 cama   \n",
       "1   /rooms/645852499715754539?adults=1&children=0&...              1 cama   \n",
       "2   /rooms/8151920?adults=1&children=0&infants=0&c...     1 cama de casal   \n",
       "3   /rooms/35996844?adults=1&children=0&infants=0&...     1 cama de casal   \n",
       "4   /rooms/547750422101333235?adults=1&children=0&...     1 cama de casal   \n",
       "5   /rooms/21501493?adults=1&children=0&infants=0&...              1 cama   \n",
       "6   /rooms/52471075?adults=1&children=0&infants=0&...        1 cama queen   \n",
       "7   /rooms/33834345?adults=1&children=0&infants=0&...              1 cama   \n",
       "8   /rooms/47835154?adults=1&children=0&infants=0&...              1 cama   \n",
       "9   /rooms/28249387?adults=1&children=0&infants=0&...              1 cama   \n",
       "10  /rooms/29000893?adults=1&children=0&infants=0&...     1 cama de casal   \n",
       "11  /rooms/553965158561537533?adults=1&children=0&...     1 cama de casal   \n",
       "12  /rooms/13800484?adults=1&children=0&infants=0&...     1 cama de casal   \n",
       "13  /rooms/22334456?adults=1&children=0&infants=0&...        1 cama queen   \n",
       "14  /rooms/51923165?adults=1&children=0&infants=0&...              1 cama   \n",
       "15  /rooms/54247639?adults=1&children=0&infants=0&...              1 cama   \n",
       "16  /rooms/23098003?adults=1&children=0&infants=0&...             2 camas   \n",
       "17  /rooms/44551490?adults=1&children=0&infants=0&...         1 cama king   \n",
       "18  /rooms/33711775?adults=1&children=0&infants=0&...              1 cama   \n",
       "19  /rooms/24982820?adults=1&children=0&infants=0&...  1 cama de solteiro   \n",
       "\n",
       "                          precos avaliacoes  \n",
       "0   R$108 / noiteR$108 por noite       4,81  \n",
       "1     R$58 / noiteR$58 por noite       Novo  \n",
       "2   R$147 / noiteR$147 por noite       Novo  \n",
       "3   R$127 / noiteR$127 por noite       4,85  \n",
       "4     R$35 / noiteR$35 por noite        4,4  \n",
       "5     R$79 / noiteR$79 por noite       4,88  \n",
       "6   R$176 / noiteR$176 por noite        5,0  \n",
       "7   R$145 / noiteR$145 por noite       4,66  \n",
       "8   R$219 / noiteR$219 por noite       4,86  \n",
       "9   R$111 / noiteR$111 por noite       4,95  \n",
       "10    R$62 / noiteR$62 por noite       4,93  \n",
       "11  R$183 / noiteR$183 por noite        5,0  \n",
       "12    R$82 / noiteR$82 por noite       4,74  \n",
       "13  R$137 / noiteR$137 por noite       4,97  \n",
       "14  R$175 / noiteR$175 por noite       4,91  \n",
       "15  R$130 / noiteR$130 por noite        4,3  \n",
       "16  R$146 / noiteR$146 por noite       4,82  \n",
       "17  R$136 / noiteR$136 por noite        5,0  \n",
       "18  R$174 / noiteR$174 por noite       4,84  \n",
       "19    R$64 / noiteR$64 por noite       4,94  "
      ]
     },
     "execution_count": 24,
     "metadata": {},
     "output_type": "execute_result"
    }
   ],
   "source": [
    "df"
   ]
  },
  {
   "cell_type": "markdown",
   "metadata": {},
   "source": [
    "O dataframe foi construido apenas com dados de airbnb de São Paulo da primeira página do buscador de acomodações. Seria interessante acrescentar os dados das páginas restantes"
   ]
  },
  {
   "cell_type": "code",
   "execution_count": 25,
   "metadata": {},
   "outputs": [],
   "source": [
    "# f15liw5s s1cjsi4j dir dir-ltr"
   ]
  },
  {
   "cell_type": "code",
   "execution_count": 26,
   "metadata": {},
   "outputs": [],
   "source": [
    "# soup.find_all('div', 't1jojoys dir dir-ltr')[0].get_text()"
   ]
  }
 ],
 "metadata": {
  "kernelspec": {
   "display_name": "Python 3",
   "language": "python",
   "name": "python3"
  },
  "language_info": {
   "codemirror_mode": {
    "name": "ipython",
    "version": 3
   },
   "file_extension": ".py",
   "mimetype": "text/x-python",
   "name": "python",
   "nbconvert_exporter": "python",
   "pygments_lexer": "ipython3",
   "version": "3.8.5"
  }
 },
 "nbformat": 4,
 "nbformat_minor": 4
}
