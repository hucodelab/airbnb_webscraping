{
 "cells": [
  {
   "cell_type": "code",
   "execution_count": 23,
   "metadata": {},
   "outputs": [],
   "source": [
    "from bs4 import BeautifulSoup\n",
    "import requests\n",
    "import matplotlib.pyplot as plt\n",
    "\n",
    "import pandas as pd\n",
    "import numpy as np"
   ]
  },
  {
   "cell_type": "markdown",
   "metadata": {},
   "source": [
    "# Definimos a cidade do buscador"
   ]
  },
  {
   "cell_type": "code",
   "execution_count": 2,
   "metadata": {},
   "outputs": [],
   "source": [
    "# Sao Paulo\n",
    "SP_url = '''https://www.airbnb.com.br/s/Sao-Paulo-~-S%C3%A3o-Paulo--Brazil/homes?tab_id=home_tab&refinement_paths%5B%5D=%2Fhomes&flexible_trip_lengths%5B%5D=one_week&query=Sao%20Paulo%20-%20S%C3%A3o%20Paulo%2C%20Brazil&place_id=ChIJ0WGkg4FEzpQRrlsz_whLqZs&date_picker_type=calendar&source=structured_search_input_header&search_type=autocomplete_click'''\n",
    "\n",
    "# Rio\n",
    "RJ_url = '''https://www.airbnb.com.br/s/Rio-de-Janeiro-~-RJ/homes?tab_id=home_tab&refinement_paths%5B%5D=%2Fhomes&flexible_trip_lengths%5B%5D=one_week&date_picker_type=calendar&source=structured_search_input_header&search_type=autocomplete_click&query=Rio%20de%20Janeiro%20-%20RJ&place_id=ChIJW6AIkVXemwARTtIvZ2xC3FA'''"
   ]
  },
  {
   "cell_type": "code",
   "execution_count": 3,
   "metadata": {},
   "outputs": [],
   "source": [
    "# soup = BeautifulSoup(requests.get(airbnb_url).content, 'html.parser')"
   ]
  },
  {
   "cell_type": "code",
   "execution_count": 4,
   "metadata": {},
   "outputs": [],
   "source": [
    "# print(soup.prettify())"
   ]
  },
  {
   "cell_type": "markdown",
   "metadata": {},
   "source": [
    "# Lista com cada um dos links das paginas do buscador"
   ]
  },
  {
   "cell_type": "code",
   "execution_count": 9,
   "metadata": {},
   "outputs": [],
   "source": [
    "def create_pages(city='SP'):\n",
    "    '''\n",
    "    \n",
    "    '''\n",
    "    pages = []\n",
    "    if city == 'SP':\n",
    "        pages.append(SP_url)\n",
    "    else:\n",
    "        pages.append(RJ_url)                \n",
    "\n",
    "    for i in range(1000):\n",
    "        soup = BeautifulSoup(requests.get(pages[-1]).content, 'html.parser')\n",
    "        try:\n",
    "            url = 'https://www.airbnb.com.br' + soup.find('a', '_1bfat5l').get('href')\n",
    "        except:\n",
    "            break\n",
    "        pages.append(url)\n",
    "        \n",
    "    return pages"
   ]
  },
  {
   "cell_type": "code",
   "execution_count": null,
   "metadata": {},
   "outputs": [],
   "source": [
    "pages_sp = create_pages('SP')\n",
    "pages_rj = create_pages('RJ')"
   ]
  },
  {
   "cell_type": "markdown",
   "metadata": {},
   "source": [
    "# Construção de listas com os dados de interesse e do dataframe com os dados da varredura"
   ]
  },
  {
   "cell_type": "code",
   "execution_count": 10,
   "metadata": {},
   "outputs": [],
   "source": [
    "# scraping dos títulos, camas, precos e avaliacoes de cada uma das acomodações\n",
    "def create_df(pages):\n",
    "    '''\n",
    "    \n",
    "    '''\n",
    "    titles = []\n",
    "    links = []\n",
    "    camas = []\n",
    "    precos = []\n",
    "    avaliacoes = []\n",
    "\n",
    "    for page in pages:\n",
    "        soup = BeautifulSoup(requests.get(page).content, 'html.parser')\n",
    "\n",
    "        for i in range(len(soup.find_all('a', 'ln2bl2p dir dir-ltr'))):\n",
    "            links.append('https://www.airbnb.com.br' + soup.find_all('a', 'ln2bl2p dir dir-ltr')[i].get('href'))\n",
    "            titles.append(soup.find_all('div', 't1jojoys dir dir-ltr')[i].get_text())\n",
    "            camas.append(soup.find_all('div', 'f15liw5s s1cjsi4j dir dir-ltr')[i].get_text())\n",
    "            precos.append(soup.find_all('div', 'p1v28t5c dir dir-ltr')[i].get_text())\n",
    "            avaliacoes.append(soup.find_all('span', 'ru0q88m dir dir-ltr')[i].get_text())\n",
    "    \n",
    "    # construcao do dataframe com os dados da varredura\n",
    "    df = pd.DataFrame({'titles': titles, 'link': links, 'camas': camas, 'precos': precos, 'avaliacoes': avaliacoes})\n",
    "    df['precos'] = df['precos'].str.extract('(\\d+)')\n",
    "    \n",
    "    return df"
   ]
  },
  {
   "cell_type": "markdown",
   "metadata": {},
   "source": [
    "# Construção do dataframe com os dados da varredura"
   ]
  },
  {
   "cell_type": "code",
   "execution_count": 11,
   "metadata": {},
   "outputs": [],
   "source": [
    "df_sp = create_df(pages_sp)\n",
    "df_rj = create_df(pages_rj)"
   ]
  },
  {
   "cell_type": "raw",
   "metadata": {},
   "source": [
    "df = pd.DataFrame({'titles': titles, 'link': links, 'camas': camas, 'precos': precos, 'avaliacoes': avaliacoes})\n",
    "df['precos'] = df['precos'].str.extract('(\\d+)')"
   ]
  },
  {
   "cell_type": "code",
   "execution_count": 29,
   "metadata": {},
   "outputs": [
    {
     "data": {
      "image/png": "[encoded data removed]",
      "text/plain": [
       "<Figure size 1500x800 with 1 Axes>"
      ]
     },
     "metadata": {},
     "output_type": "display_data"
    }
   ],
   "source": [
    "fig, axs = plt.subplots(figsize=(15, 8))\n",
    "# bins = np.linspace(-10, 10, 30)\n",
    "bins = 50\n",
    "axs.hist(df_sp['precos'], bins, alpha=0.8, label='SP')\n",
    "axs.hist(df_rj['precos'], bins, alpha=0.9, label='RJ')\n",
    "axs.set_xticks(axs.get_xticks()[::6])\n",
    "axs.legend(loc='upper right')\n",
    "plt.show()"
   ]
  },
  {
   "cell_type": "code",
   "execution_count": null,
   "metadata": {},
   "outputs": [],
   "source": []
  },
  {
   "cell_type": "markdown",
   "metadata": {},
   "source": [
    "Os dataframes foram construidos com dados de São Paulo e Rio De Janeiro, pode ser feita uma análise comparativa dos preços e outros atributos de cada uma das acomodações."
   ]
  },
  {
   "cell_type": "code",
   "execution_count": null,
   "metadata": {},
   "outputs": [],
   "source": [
    "# f15liw5s s1cjsi4j dir dir-ltr"
   ]
  },
  {
   "cell_type": "code",
   "execution_count": null,
   "metadata": {},
   "outputs": [],
   "source": [
    "# soup.find_all('div', 't1jojoys dir dir-ltr')[0].get_text()"
   ]
  }
 ],
 "metadata": {
  "kernelspec": {
   "display_name": "Python 3",
   "language": "python",
   "name": "python3"
  },
  "language_info": {
   "codemirror_mode": {
    "name": "ipython",
    "version": 3
   },
   "file_extension": ".py",
   "mimetype": "text/x-python",
   "name": "python",
   "nbconvert_exporter": "python",
   "pygments_lexer": "ipython3",
   "version": "3.8.5"
  }
 },
 "nbformat": 4,
 "nbformat_minor": 4
}
